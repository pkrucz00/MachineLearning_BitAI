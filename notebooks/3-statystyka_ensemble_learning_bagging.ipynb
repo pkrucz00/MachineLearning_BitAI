{
 "cells": [
  {
   "cell_type": "markdown",
   "metadata": {},
   "source": [
    "# Zajęcia 3 - bagging, lasy losowe, ExtraTrees"
   ]
  },
  {
   "cell_type": "markdown",
   "metadata": {},
   "source": [
    "## Importy"
   ]
  },
  {
   "cell_type": "code",
   "execution_count": 16,
   "metadata": {},
   "outputs": [],
   "source": [
    "import matplotlib.pyplot as plt\n",
    "import numpy as np\n",
    "import os\n",
    "import sklearn\n",
    "from sklearn.datasets import fetch_openml  # for downloading remote datasets\\\n",
    "from sklearn.ensemble import BaggingClassifier, RandomForestClassifier, ExtraTreesClassifier\n",
    "from sklearn.model_selection import train_test_split\n",
    "from sklearn.preprocessing import LabelEncoder\n",
    "from time import time\n",
    "import pandas as pd\n",
    "from random import randint"
   ]
  },
  {
   "cell_type": "code",
   "execution_count": 2,
   "metadata": {},
   "outputs": [],
   "source": [
    "# a little workaround to suppress nonessential warnings\n",
    "import warnings\n",
    "warnings.filterwarnings(\"ignore\", category=RuntimeWarning)\n",
    "warnings.filterwarnings(\"ignore\", category=UserWarning)"
   ]
  },
  {
   "cell_type": "markdown",
   "metadata": {},
   "source": [
    "## Ładowanie danych"
   ]
  },
  {
   "cell_type": "markdown",
   "metadata": {},
   "source": [
    "Zgodnie z obietnicą sprawdzimy, dlaczego lasy lepiej przewidują rozwody od drzew. Wykorzystamy zatem zbiór danych Divorce Predictors Dataset, znany z ostatniego notebooka. Załadujmy więc plik .csv za pomocą biblioteki Pandas, podzielmy go na cechy i klasy, a potem na zbiór treningowy i testowy."
   ]
  },
  {
   "cell_type": "code",
   "execution_count": 3,
   "metadata": {},
   "outputs": [],
   "source": [
    "div_X = pd.read_csv(\"divorce_dataset.csv\", sep=\";\")  # Divorce dataset uses non-standard \";\" instead of \",\" in .csv\n",
    "\n",
    "# remove classes from X\n",
    "div_y = div_X.pop(\"Class\")\n",
    "\n",
    "# notice that Scikit-learn method can take Pandas data structures directly\n",
    "div_X_train, div_X_test, div_y_train, div_y_test = train_test_split(div_X, div_y, test_size=.25, random_state=0)"
   ]
  },
  {
   "cell_type": "markdown",
   "metadata": {},
   "source": [
    "Wykorzystamy także zbiór **MNIST** - jest to zbiór 70 tysięcy ręcznie pisanych cyfr, jeden z najbardziej znanych zbiorów w machine learningu. Dzięki dość dużemu rozmiarowi i niewielkim obrazkom (28x28 pikseli) stanowi dobry materiał do trenowania i porównywania różnych algorytmów.  \n",
    "Uwaga - normalnym jest, że to się chwilę ściąga, jest to względnie dużo danych."
   ]
  },
  {
   "cell_type": "code",
   "execution_count": 4,
   "metadata": {},
   "outputs": [],
   "source": [
    "mnist_X, mnist_y = fetch_openml('mnist_784', return_X_y=True)"
   ]
  },
  {
   "cell_type": "code",
   "execution_count": 5,
   "metadata": {},
   "outputs": [],
   "source": [
    "# change number of rows used below if calculations using MNIST are taking too long\n",
    "mnist_X = mnist_X[:10000, :]\n",
    "mnist_y = mnist_y[:10000]\n",
    "\n",
    "mnist_X_train, mnist_X_test, mnist_y_train, mnist_y_test = train_test_split(mnist_X, mnist_y, test_size=.25, random_state=0)"
   ]
  },
  {
   "cell_type": "markdown",
   "metadata": {},
   "source": [
    "Obrazy to macierze 2D, my chcemy przykłady uczące 1D, więc w powyższym zbiorze są one **spłaszczone** (flattened) do postaci 1D. Chcąc narysować przykładową cyfrę, musimy użyć funkcji Numpy'a `reshape`, która w szczególności przydaje się do transformacji wektorów 1D <-> 2D."
   ]
  },
  {
   "cell_type": "code",
   "execution_count": 11,
   "metadata": {},
   "outputs": [
    {
     "data": {
      "image/png": "[encoded data removed]",
      "text/plain": [
       "<Figure size 432x288 with 1 Axes>"
      ]
     },
     "metadata": {
      "needs_background": "light"
     },
     "output_type": "display_data"
    }
   ],
   "source": [
    "plt.imshow(mnist_X[0].reshape(28,28), cmap=plt.cm.gray_r, interpolation='nearest')\n",
    "plt.title(\"Digit: {}\".format(mnist_y[0]))\n",
    "plt.show()"
   ]
  },
  {
   "cell_type": "markdown",
   "metadata": {},
   "source": [
    "Na koniec dorzucimy jeszcze zbiór Adult Data Set (zwany także Census Income Dataset), będący zbiorem danych o dochodach obywateli USA z 1994 roku. Jest to zbiór do klasyfikacji binarnej - czy dana osoba zarabia co najmniej 50 tys. dolarów rocznie, czy nie.  \n",
    "Problem podziału konsumentów na różne progi zarobków pojawia się bardzo często np. w tematyce spersonalizowanych reklam.  \n",
    "Opis zbioru: https://archive.ics.uci.edu/ml/datasets/Adult"
   ]
  },
  {
   "cell_type": "code",
   "execution_count": 12,
   "metadata": {},
   "outputs": [
    {
     "name": "stdout",
     "output_type": "stream",
     "text": [
      "   0                  1       2           3   4                    5   \\\n",
      "0  39          State-gov   77516   Bachelors  13        Never-married   \n",
      "1  50   Self-emp-not-inc   83311   Bachelors  13   Married-civ-spouse   \n",
      "2  38            Private  215646     HS-grad   9             Divorced   \n",
      "3  53            Private  234721        11th   7   Married-civ-spouse   \n",
      "4  28            Private  338409   Bachelors  13   Married-civ-spouse   \n",
      "\n",
      "                   6               7       8        9     10  11  12  \\\n",
      "0        Adm-clerical   Not-in-family   White     Male  2174   0  40   \n",
      "1     Exec-managerial         Husband   White     Male     0   0  13   \n",
      "2   Handlers-cleaners   Not-in-family   White     Male     0   0  40   \n",
      "3   Handlers-cleaners         Husband   Black     Male     0   0  40   \n",
      "4      Prof-specialty            Wife   Black   Female     0   0  40   \n",
      "\n",
      "               13      14  \n",
      "0   United-States   <=50K  \n",
      "1   United-States   <=50K  \n",
      "2   United-States   <=50K  \n",
      "3   United-States   <=50K  \n",
      "4            Cuba   <=50K  \n"
     ]
    }
   ],
   "source": [
    "df = pd.read_csv(\"adult_dataset.data\", header=None)\n",
    "\n",
    "print(df.head())"
   ]
  },
  {
   "cell_type": "markdown",
   "metadata": {},
   "source": [
    "Niektóre wiersze zawierają wartości brakujące - usuniemy je w tym wypadku."
   ]
  },
  {
   "cell_type": "code",
   "execution_count": 13,
   "metadata": {},
   "outputs": [],
   "source": [
    "df.dropna(axis=\"index\", inplace=True)"
   ]
  },
  {
   "cell_type": "markdown",
   "metadata": {},
   "source": [
    "Zanim dokonamy klasyfikacji, wykorzystamy **Label Encoder** do zamiany zmiennych kategorycznych (w tym klas) w postaci stringów na liczby. Dzięki temu klasyfikatory oczekujące wejścia numerycznego dostaną wejście numeryczne, ale działające jak zmienna kategoryczna."
   ]
  },
  {
   "cell_type": "code",
   "execution_count": 14,
   "metadata": {},
   "outputs": [
    {
     "name": "stdout",
     "output_type": "stream",
     "text": [
      "   0   1       2   3   4   5   6   7   8   9     10  11  12  13  14\n",
      "0  39   7   77516   9  13   4   1   1   4   1  2174   0  40  39   0\n",
      "1  50   6   83311   9  13   2   4   0   4   1     0   0  13  39   0\n",
      "2  38   4  215646  11   9   0   6   1   4   1     0   0  40  39   0\n",
      "3  53   4  234721   1   7   2   6   0   2   1     0   0  40  39   0\n",
      "4  28   4  338409   9  13   2  10   5   2   0     0   0  40   5   0\n"
     ]
    }
   ],
   "source": [
    "le = LabelEncoder()\n",
    "for column_name in df.columns:\n",
    "    if df[column_name].dtype == object:\n",
    "        df[column_name] = le.fit_transform(df[column_name])\n",
    "        \n",
    "print(df.head())"
   ]
  },
  {
   "cell_type": "markdown",
   "metadata": {},
   "source": [
    "Niektóre wiersze zawierają wartości brakujące - usuniemy je w tym wypadku."
   ]
  },
  {
   "cell_type": "markdown",
   "metadata": {},
   "source": [
    "Teraz możemy już dokonać podziału zbioru na zbiory treningowy i testowy."
   ]
  },
  {
   "cell_type": "code",
   "execution_count": 15,
   "metadata": {},
   "outputs": [],
   "source": [
    "adult_y = df[14].values\n",
    "adult_X = df.drop(14, axis=1)\n",
    "\n",
    "adult_X_train, adult_X_test, adult_y_train, adult_y_test = train_test_split(adult_X, adult_y, test_size=.25, random_state=0)"
   ]
  },
  {
   "cell_type": "markdown",
   "metadata": {},
   "source": [
    "## Bagging"
   ]
  },
  {
   "cell_type": "markdown",
   "metadata": {},
   "source": [
    "Bagging, jak pamiętamy z wykładu, trenuje serię niezależnych klasyfikatorów z pomocą bootstrappingu, który jest po prostu losowaniem ze zwracaniem."
   ]
  },
  {
   "cell_type": "markdown",
   "metadata": {},
   "source": [
    "### Zadanie 1"
   ]
  },
  {
   "cell_type": "markdown",
   "metadata": {},
   "source": [
    "Napisz funkcję `get_bootstrap_sample`, która dla danych `X` (macierz przykładów treningowych) i `y` (wektor klas) zwróci próbkę bootstrapową zadanego rozmiaru `size`. Zwróć uwagę na to, że trzeba zwrócić zarówno wybrane wiersze (być może z powtórzeniami) z `X`, jak i odpowiadające im klasy z `y` (pod tymi samymi indeksami).  \n",
    "Jako dodatkowe wyzwanie, postaraj się maksymalnie użyć Numpy'a - jego metody i możliwość wykorzystania **wektoryzacji** (uogólnienia funkcji, żeby działały na całych macierzach/wierszach/kolumanch) oraz indeksowania za pomocą **masek** (np. `[0, 1, 1, 0]` oznacza \"wybierz drugi i trzeci element z 4-elementowego wektora\") są bardzo wydajne i nieodzowne w przypadku dużych ilości danych."
   ]
  },
  {
   "cell_type": "code",
   "execution_count": 17,
   "metadata": {},
   "outputs": [],
   "source": [
    "def get_bootstrap_sample(X, y, size=1):\n",
    "    n = len(X)\n",
    "    X_sample, y_sample = [], []\n",
    "    for _ in range(size):\n",
    "        ind_rand = randint(0, n-1)\n",
    "        X_sample.append(X[ind_rand])\n",
    "        y_sample.append(y[ind_rand])\n",
    "        \n",
    "    return X_sample, y_sample"
   ]
  },
  {
   "cell_type": "markdown",
   "metadata": {},
   "source": [
    "## Bagging jako przykład algorytmu embarassingly parallel"
   ]
  },
  {
   "cell_type": "markdown",
   "metadata": {},
   "source": [
    "Bagging jest operacją, którą określamy mianem embarassingly parallel, dlaczego by więc nie wykorzystać wielu rdzeni naszego procesora, a nawet wszystkich dostępnych? Scikit-learn udostępnia taką opcję w postaci argumentu `n_jobs`, który domyślnie ma wartość 1, a dla wartości -1 wykorzystuje tyle rdzeni, ile tylko jest dostępne.  \n",
    "Porównamy czasy treningu i predykcji działania dla różnej liczby rdzeni dla zbioru MNIST dla baggingu z domyślnymi parametrami (używa drzew decyzyjnych), wykorzystując poniższe funkcje pomocnicze.\n",
    "Jeżeli znasz **prawo Amdahla**, to jest ono tutaj wyjątkowo łaskawe, bo dla problemów embarassingly parallel daje się osiągnąć (przynajmniej w teorii) liniowy zysk czasowy wraz ze wzrostem liczby procesorów.  \n",
    "\n",
    "Uwaga: poniższy kod będzie wykonywał się dość długo, jest to normalne, bo wykonujemy go bardzo dużo razy, żeby narysować wykres. Dodałem printy, żeby nie mieć poczucia, że kod się \"zawiesił\"."
   ]
  },
  {
   "cell_type": "code",
   "execution_count": 18,
   "metadata": {},
   "outputs": [],
   "source": [
    "cores = os.cpu_count()  # get the number of cores\n",
    "\n",
    "\n",
    "def evaluate_cores(model, X, y):\n",
    "    # we'll check for those sizes\n",
    "    N = [1000, 2000, 3000, 4000, 5000]\n",
    "\n",
    "    model_dict = {f\"model_{n}\": model(n_jobs=n) for n in range(1, cores + 1)}  # contruct model:instance pairs\n",
    "    data_dict = {model: [] for model in model_dict.keys()}  # prepare data for storage\n",
    "\n",
    "    for n in N:\n",
    "        print(\"n:\", n)\n",
    "        for k in data_dict.keys():\n",
    "            start = time()\n",
    "            model_dict[k].fit(X, y)\n",
    "            end = time()\n",
    "            elapsed = end - start\n",
    "            data_dict[k].append(elapsed)  # add time to dict\n",
    "            print(\"\\t - fit time:\", elapsed)\n",
    "\n",
    "    data_dict[\"N\"] = N\n",
    "    df = pd.DataFrame.from_dict(data_dict)\n",
    "    return df\n",
    "\n",
    "\n",
    "def visualize(df):\n",
    "    ys = df.copy()  # get y-values\n",
    "    xs = ys.pop('N')  # get x-values\n",
    "\n",
    "    plt.plot(xs, ys)\n",
    "    plt.title(\"Average Model Training Time\")\n",
    "    plt.xlabel(\"Sample Size ($n$)\")\n",
    "    plt.ylabel(\"Time\")\n",
    "    plt.legend([f\"n_jobs={n}\" for n in range(1, cores + 1)])\n",
    "    \n",
    "    plt.show()"
   ]
  },
  {
   "cell_type": "code",
   "execution_count": 19,
   "metadata": {},
   "outputs": [
    {
     "name": "stdout",
     "output_type": "stream",
     "text": [
      "n: 1000\n",
      "\t - fit time: 7.934725999832153\n",
      "\t - fit time: 5.124551773071289\n",
      "\t - fit time: 4.692403078079224\n",
      "\t - fit time: 3.3734891414642334\n",
      "\t - fit time: 3.5575714111328125\n",
      "\t - fit time: 2.6879658699035645\n",
      "\t - fit time: 2.6607232093811035\n",
      "\t - fit time: 2.6140058040618896\n",
      "n: 2000\n",
      "\t - fit time: 7.937718391418457\n",
      "\t - fit time: 5.5624306201934814\n",
      "\t - fit time: 4.8086628913879395\n",
      "\t - fit time: 3.3078842163085938\n",
      "\t - fit time: 3.6004278659820557\n",
      "\t - fit time: 2.739619731903076\n",
      "\t - fit time: 2.70196795463562\n",
      "\t - fit time: 2.5023233890533447\n",
      "n: 3000\n",
      "\t - fit time: 7.77163553237915\n",
      "\t - fit time: 5.451172828674316\n",
      "\t - fit time: 4.422916889190674\n",
      "\t - fit time: 3.3544068336486816\n",
      "\t - fit time: 3.4248664379119873\n",
      "\t - fit time: 2.6395227909088135\n",
      "\t - fit time: 2.53979229927063\n",
      "\t - fit time: 2.6383564472198486\n",
      "n: 4000\n",
      "\t - fit time: 7.842890501022339\n",
      "\t - fit time: 5.62174391746521\n",
      "\t - fit time: 4.450798749923706\n",
      "\t - fit time: 3.256105661392212\n",
      "\t - fit time: 3.7626748085021973\n",
      "\t - fit time: 2.6960091590881348\n",
      "\t - fit time: 2.6676039695739746\n",
      "\t - fit time: 2.793297290802002\n",
      "n: 5000\n",
      "\t - fit time: 7.823558568954468\n",
      "\t - fit time: 5.200953245162964\n",
      "\t - fit time: 4.479526996612549\n",
      "\t - fit time: 3.5962460041046143\n",
      "\t - fit time: 3.8449923992156982\n",
      "\t - fit time: 2.668816089630127\n",
      "\t - fit time: 2.459421396255493\n",
      "\t - fit time: 2.5120291709899902\n"
     ]
    },
    {
     "data": {
      "image/png": "[encoded data removed]",
      "text/plain": [
       "<Figure size 432x288 with 1 Axes>"
      ]
     },
     "metadata": {
      "needs_background": "light"
     },
     "output_type": "display_data"
    }
   ],
   "source": [
    "model = BaggingClassifier # what will go there? Something with BaggingClassifier class? Remember - in Python *everything* is an object\n",
    "df = evaluate_cores(model, mnist_X_train, mnist_y_train)\n",
    "visualize(df)"
   ]
  },
  {
   "cell_type": "markdown",
   "metadata": {},
   "source": [
    "Z wykresu powinno jasno wynikać przy właściwie każdym wykonaniu, że większa liczba rdzeni = lepiej i szybciej, z ewentualnymi drobnymi lokalnymi wahaniami."
   ]
  },
  {
   "cell_type": "markdown",
   "metadata": {},
   "source": [
    "### Zadanie 2"
   ]
  },
  {
   "cell_type": "markdown",
   "metadata": {},
   "source": [
    "Przewagą baggingu nad lasami losowymi jest to, że może używać dowolnych klasyfikatorów, nie tylko drzew decyzyjnych. Wypróbuj bagging dla 32 klasyfikatorów bazowych dla zbioru Divorce dataset oparty o:\n",
    "- kNN dla k=1,\n",
    "- kNN dla k=sqrt(n),\n",
    "- pieńki decyzyjne (drzewa decyzyjne o max_depth=1)\n",
    "- drzewa decyzyjne o dowolnej głębokości\n",
    "- SVMy (nie mówiliśmy jeszcze o tym klasyfikatorze, ale jest to klasyfikator low bias, high variance)\n",
    "\n",
    "Porównaj accuracy, używając `oob_score`, która oblicza jego out-of-bag estimate. Które z użytych klasyfikatorów są stabilne, a które nie? Które mają niski/wysoki bias/variance? Którego rodzaju klasyfikatory nadają się najlepiej do tego rodzaju ensemblingu?"
   ]
  },
  {
   "cell_type": "code",
   "execution_count": 25,
   "metadata": {},
   "outputs": [
    {
     "name": "stdout",
     "output_type": "stream",
     "text": [
      "Knn1:  0.984251968503937\n",
      "KnnSqrt:  0.984251968503937\n",
      "Trunk:  0.9763779527559056\n",
      "FullTree:  0.984251968503937\n",
      "svm:  0.984251968503937\n"
     ]
    }
   ],
   "source": [
    "from sklearn.neighbors import KNeighborsClassifier\n",
    "from sklearn.tree import DecisionTreeClassifier\n",
    "from sklearn.svm import SVC\n",
    "from math import sqrt\n",
    "\n",
    "def get_accuracy(base_classifier, X, y):\n",
    "    # write other appropriate options - those provided are mostly for utility\n",
    "    bagging_classifier = BaggingClassifier(base_estimator = base_classifier, n_estimators=32, n_jobs=-1, random_state=0, oob_score=True)\n",
    "    bagging_classifier.fit(X, y)\n",
    "    return bagging_classifier.oob_score_\n",
    "      \n",
    "X, y = div_X_train, div_y_train\n",
    "classifiers = {\"Knn1\": KNeighborsClassifier(n_neighbors=1),\n",
    "\"KnnSqrt\": KNeighborsClassifier(n_neighbors=int(sqrt(len(X)))),\n",
    "\"Trunk\": DecisionTreeClassifier(max_depth=1),\n",
    "\"FullTree\": DecisionTreeClassifier(),\n",
    "\"svm\":SVC()}\n",
    "for name, classifier in classifiers.items():\n",
    "    print(f'{name}: ', get_accuracy(classifier, X, y))\n"
   ]
  },
  {
   "cell_type": "markdown",
   "metadata": {},
   "source": [
    "## Lasy losowe"
   ]
  },
  {
   "cell_type": "markdown",
   "metadata": {},
   "source": [
    "Lasy losowe stanowią ulepszenie baggingu o losowanie pewnej liczby cech `max_features` przy każdym splicie, co dekoreluje drzewa i przyspiesza klasyfikację względem baggingu. Zobaczmy, czy faktycznie tak jest, na przykładzie Divorce dataset - kto w końcu powiedział, że wszystkie lasy równie dobrze znają się na rozwodach?  \n",
    "Dla miarodajnego pomiaru używamy baggingu opartego o drzewa decyzyjne oraz trochę większej liczby klasyfikatorów bazowych niż domyślne 10 - to zbyt mało, żeby OOB było miarodajne. Porównujemy także klasyfikatory na jednolitym zbiorze testowym - pamiętaj zawsze o tym, że wyniki walidacji skrośnej czy OOB to tylko estymacje błędu generalizacji na zbiorach walidacyjnych, klasyfikatory pomiędzy sobą zawsze porównujemy na zbiorze testowym. Pomaga to też wykryć overfitting."
   ]
  },
  {
   "cell_type": "code",
   "execution_count": 26,
   "metadata": {},
   "outputs": [
    {
     "name": "stdout",
     "output_type": "stream",
     "text": [
      "Bagging classifier OOB accuracy: 0.984251968503937\n",
      "Random forest OOB accuracy: 0.984251968503937\n",
      "\n",
      "Bagging classifier test accuracy: 0.9534883720930233\n",
      "Random forest test accuracy: 0.9534883720930233\n"
     ]
    }
   ],
   "source": [
    "bagging_classifier = BaggingClassifier(n_estimators=32, n_jobs=-1, oob_score=True, random_state=0)\n",
    "random_forest = RandomForestClassifier(n_estimators=32, n_jobs=-1, oob_score=True, random_state=0)\n",
    "\n",
    "bagging_classifier.fit(div_X_train, div_y_train)\n",
    "random_forest.fit(div_X_train, div_y_train)\n",
    "\n",
    "print(\"Bagging classifier OOB accuracy:\", bagging_classifier.oob_score_)\n",
    "print(\"Random forest OOB accuracy:\", random_forest.oob_score_)\n",
    "\n",
    "print()\n",
    "\n",
    "print(\"Bagging classifier test accuracy:\", bagging_classifier.score(div_X_test, div_y_test))\n",
    "print(\"Random forest test accuracy:\", random_forest.score(div_X_test, div_y_test))"
   ]
  },
  {
   "cell_type": "markdown",
   "metadata": {},
   "source": [
    "Jak widać, dla tak prostego zbioru jak Divorce dataset oba klasyfikatory wykazały taką samą dokładność. Co jednak z trudniejszym zbiorem, takim jak MNIST?"
   ]
  },
  {
   "cell_type": "code",
   "execution_count": 27,
   "metadata": {},
   "outputs": [
    {
     "name": "stdout",
     "output_type": "stream",
     "text": [
      "Bagging classifier OOB accuracy: 0.9013333333333333\n",
      "Random forest OOB accuracy: 0.9092\n",
      "\n",
      "Bagging classifier test accuracy: 0.916\n",
      "Random forest test accuracy: 0.9328\n"
     ]
    }
   ],
   "source": [
    "bagging_classifier = BaggingClassifier(n_estimators=32, n_jobs=-1, oob_score=True, random_state=0)\n",
    "random_forest = RandomForestClassifier(n_estimators=32, n_jobs=-1, oob_score=True, random_state=0)\n",
    "\n",
    "bagging_classifier.fit(mnist_X_train, mnist_y_train)\n",
    "random_forest.fit(mnist_X_train, mnist_y_train)\n",
    "\n",
    "print(\"Bagging classifier OOB accuracy:\", bagging_classifier.oob_score_)\n",
    "print(\"Random forest OOB accuracy:\", random_forest.oob_score_)\n",
    "\n",
    "print()\n",
    "\n",
    "print(\"Bagging classifier test accuracy:\", bagging_classifier.score(mnist_X_test, mnist_y_test))\n",
    "print(\"Random forest test accuracy:\", random_forest.score(mnist_X_test, mnist_y_test))"
   ]
  },
  {
   "cell_type": "markdown",
   "metadata": {},
   "source": [
    "Różnica co prawda nie jest wielka, ale jest. Im trudniejszy zbiór, tym bardziej będzie widoczna - MNIST, pomimo dużego rozmiaru i teoretycznie dość trudnego zadania, jest w praktyce dla wielu algorytmów co najwyżej przeciętnie trudny."
   ]
  },
  {
   "cell_type": "markdown",
   "metadata": {},
   "source": [
    "### Zadanie 3"
   ]
  },
  {
   "cell_type": "markdown",
   "metadata": {},
   "source": [
    "Powszechnie sądzi się, że Random Forest nie overfittuje. Sprawdź, czy im więcej drzew, tym mądrzejsze będą w kwestii przewidywania zarobków mieszkańców USA. Narysuj w tym celu wykres zależności błędu OOB (nie precyzji!) od liczby drzew.  \n",
    "Aby uzyskać tutaj miarodajne wyniki, trzeba tu będzie użyć opcji `warm_start`, aby dodawać kolejne drzewa do już istniejącego lasu, uniemożliwi to jednak niestety użycie wielu rdzeni do treningu wielu drzew.  \n",
    "Pomocny w kwestii tego parametru link: https://stackoverflow.com/questions/42757892/how-to-use-warm-start"
   ]
  },
  {
   "cell_type": "code",
   "execution_count": 33,
   "metadata": {},
   "outputs": [
    {
     "data": {
      "image/png": "[encoded data removed]",
      "text/plain": [
       "<Figure size 432x288 with 1 Axes>"
      ]
     },
     "metadata": {
      "needs_background": "light"
     },
     "output_type": "display_data"
    }
   ],
   "source": [
    "forest = RandomForestClassifier(n_jobs = -1, n_estimators = 1, warm_start=True, oob_score=True)     \n",
    "X, y = adult_X_train, adult_y_train\n",
    "scores, x_axis = [], []\n",
    "\n",
    "for n in range(0, 5000, 100):\n",
    "    if n != 0: forest.n_estimators = n\n",
    "    forest.fit(X, y)\n",
    "    \n",
    "    scores.append(1 - forest.oob_score_)\n",
    "    x_axis.append(n)\n",
    "    \n",
    "plt.plot(x_axis, scores)\n",
    "plt.show()"
   ]
  },
  {
   "cell_type": "markdown",
   "metadata": {},
   "source": [
    "## Extra Trees"
   ]
  },
  {
   "cell_type": "markdown",
   "metadata": {},
   "source": [
    "Dzięki bardzo dużej dekorelacji drzew klasyfikator Extra Trees przydaje się do jednej, bardzo szczególnej rzeczy (poza oczywiście samą klasyfikacją) - sprawdzania wagi poszczególnych cech. W końcu drzewa mają \"wbudowaną\" taką funkcjonalność, bo na podstawie szacowania ważności cech podejmują decyzję o podziale (ważniejsze cechy lepiej dzielą klasy). Sprawdźmy więc, na co najbardziej trzeba uważać, żeby uniknąć rozwodu."
   ]
  },
  {
   "cell_type": "code",
   "execution_count": 45,
   "metadata": {},
   "outputs": [
    {
     "name": "stdout",
     "output_type": "stream",
     "text": [
      "[17, 16, 10, 18, 39, 38, 8, 19, 4, 37, 13, 35, 3, 40, 15, 25, 9, 14, 43, 0, 27, 28, 24, 26, 2, 11, 29, 20, 31, 7, 32, 34, 1, 36, 22, 12, 21, 33, 53, 30, 6, 41, 52, 51, 48, 49, 5, 23, 47, 42, 44, 46, 45, 50]\n",
      "1 feature is at index 19\n",
      "2 feature is at index 32\n",
      "3 feature is at index 24\n",
      "4 feature is at index 12\n",
      "5 feature is at index 8\n"
     ]
    }
   ],
   "source": [
    "classifier = ExtraTreesClassifier(n_estimators=250, random_state=0)\n",
    "\n",
    "classifier.fit(div_X_train, div_y_train)\n",
    "importances = classifier.feature_importances_  # raw numbers - they don't tell us much\n",
    "indices = list(np.argsort(importances)[::-1])  # if we sorted importances decreasing, at which index would be every position?\n",
    "print(indices)  # uncomment, if you're interested\n",
    "\n",
    "for i in range(0, 5):\n",
    "    print(i + 1, \"feature is at index\", indices.index(i))  #moze chodzi o indices.index(i) + 1  ?"
   ]
  },
  {
   "cell_type": "markdown",
   "metadata": {},
   "source": [
    "Porównaj wartości cech z https://archive.ics.uci.edu/ml/datasets/Divorce+Predictors+data+set - w końcu nie wiadomo, kiedy to może się przydać."
   ]
  },
  {
   "cell_type": "markdown",
   "metadata": {},
   "source": [
    "### Zadanie 4"
   ]
  },
  {
   "cell_type": "markdown",
   "metadata": {},
   "source": [
    "Zostałeś zatrudniony/zatrudniona przez niewielki amerykański startup, który dla oszczędności otworzył biuro w Polsce. Podpisał on umowę z kilkoma firmami sprzedającymi drogie, markowe produkty, aby wykonywać dla nich analizy z zakresu data science. Twoim jest wyznaczyć, na jakich cechach powinny się skupić wysiłki firm, aby zwiększyć sprzedaż, a przy tym nie wydać zbyt wiele na reklamę. Nie wiesz, ile takich cech może być.  \n",
    "Dla oszczędności chcesz wykorzystać ogólnodostępny zbiór Census Income Dataset (są też inne podobne, nowsze, ale ten znasz z zajęć na BIT AI), którego klasy zostały przepisane poniżej.  \n",
    "Zaproponuj metodę, która pozwoli rozwiązać przedstawione przed tobą zadanie. Pamiętaj, że musisz także zaproponować jakiś sposób sprawdzenia, ile cech należy uwzględnić - może być to albo metoda graficzna (świetnie sprzeda się na prezentacji klientowi), albo automatyczny algorytm (który będziesz mógł/mogła wykorzystać też w innych projektach z ML)."
   ]
  },
  {
   "cell_type": "code",
   "execution_count": 52,
   "metadata": {},
   "outputs": [
    {
     "name": "stdout",
     "output_type": "stream",
     "text": [
      "Most important for deciding, whom should we target, are: \n",
      " Number 1: workclass\n",
      " Number 2: race\n",
      " Number 3: age\n",
      " Number 4: sex\n",
      " Number 5: marital-status\n"
     ]
    }
   ],
   "source": [
    "labels = [\"age\", \"workclass\", \"fnlwgt\", \"education\", \"education-num\", \"marital-status\", \"occupation\", \"relationship\",\n",
    "          \"race\", \"sex\", \"capital-gain\", \"capital-loss\", \"hours-per-week\", \"native-country\"]\n",
    "\n",
    "classifier = ExtraTreesClassifier(n_estimators=250, random_state=0)\n",
    "\n",
    "classifier.fit(adult_X_train, adult_y_train)\n",
    "importances = classifier.feature_importances_  # raw numbers - they don't tell us much\n",
    "indices = list(np.argsort(importances)[::-1])  # if we sorted importances decreasing, at which index would be every position?\n",
    "print(\"Most important for deciding, whom should we target, are: \")\n",
    "\n",
    "for i in range(0, 5):\n",
    "    label_ind = indices.index(i)\n",
    "    print(f\" Number {i + 1}: {labels[label_ind]}\")"
   ]
  },
  {
   "cell_type": "code",
   "execution_count": null,
   "metadata": {},
   "outputs": [],
   "source": []
  }
 ],
 "metadata": {
  "kernelspec": {
   "display_name": "Python 3",
   "language": "python",
   "name": "python3"
  },
  "language_info": {
   "codemirror_mode": {
    "name": "ipython",
    "version": 3
   },
   "file_extension": ".py",
   "mimetype": "text/x-python",
   "name": "python",
   "nbconvert_exporter": "python",
   "pygments_lexer": "ipython3",
   "version": "3.7.6"
  }
 },
 "nbformat": 4,
 "nbformat_minor": 4
}
